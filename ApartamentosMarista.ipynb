{
 "cells": [
  {
   "cell_type": "code",
   "execution_count": 3,
   "metadata": {},
   "outputs": [],
   "source": [
    "from selenium import webdriver\n",
    "from selenium.webdriver.chrome.service import Service\n",
    "from selenium.webdriver.common.by import By\n",
    "from selenium.webdriver.common.keys import Keys\n",
    "from selenium.webdriver.chrome.options import Options\n",
    "from selenium.webdriver.support.ui import WebDriverWait\n",
    "from selenium.webdriver.support import expected_conditions as EC\n",
    "from webdriver_manager.chrome import ChromeDriverManager\n",
    "from bs4 import BeautifulSoup\n",
    "import time\n",
    "\n",
    "#pip install bs4\n",
    "#pip install selenium\n",
    "#pip install webdriver_manager\n",
    "#pip install blinker==1.6.2"
   ]
  },
  {
   "cell_type": "code",
   "execution_count": 251,
   "metadata": {},
   "outputs": [],
   "source": [
    "SCROLL_PAUSE_TIME = 3\n",
    "pages = int(42)\n",
    "cards = []\n",
    "\n",
    "chrome_options = Options()\n",
    "chrome_options.add_argument(\"--headless\")\n",
    "chrome_options.add_argument(\"--disable-blink-features=AutomationControlled\")\n",
    "chrome_options.add_argument(\"user-agent=Mozilla/5.0 (Windows NT 10.0; Win64; x64)\")\n",
    "service = Service(ChromeDriverManager().install())\n",
    "\n",
    "for i in range(1, pages+1):\n",
    "    driver = webdriver.Chrome(service=service, options=chrome_options)\n",
    "    url = \"https://www.zapimoveis.com.br/venda/apartamentos/go+goiania++setor-marista/?pagina=\" + str(i)\n",
    "    driver.get(url)\n",
    "\n",
    "    wait = WebDriverWait(driver, 10)\n",
    "    wait.until(EC.presence_of_element_located((By.TAG_NAME, \"body\")))\n",
    "\n",
    "    last_height = driver.execute_script(\"return document.body.scrollHeight\")\n",
    "    while True:\n",
    "        try:\n",
    "            img_element = driver.find_element(By.XPATH, \"//img[contains(@class, 'campaign__container-image')]\")\n",
    "            driver.execute_script(\"arguments[0].scrollIntoView();\", img_element)\n",
    "        except:\n",
    "            pass\n",
    "        \n",
    "        time.sleep(SCROLL_PAUSE_TIME)\n",
    "        \n",
    "        new_height = driver.execute_script(\"return document.body.scrollHeight\")\n",
    "        if new_height == last_height:\n",
    "            break\n",
    "        last_height = new_height\n",
    "\n",
    "    html = driver.page_source\n",
    "    soup = BeautifulSoup(html, \"html.parser\")\n",
    "\n",
    "    anuncios = soup.find('div', class_=\"listing-wrapper__content\").find_all('div', class_=\"BaseCard_card__content__pL2Vc w-full p-3\")\n",
    "\n",
    "    for anuncio in anuncios:\n",
    "        card = {}\n",
    "        lista_valores = anuncio.find_all('p')\n",
    "        valor_limpo = [valor.text.strip() for valor in lista_valores]\n",
    "        \n",
    "        card['Endereço'] = valor_limpo[0]\n",
    "        card['Preço'] = valor_limpo[1].replace(\"A partir de \", \"\")\n",
    "\n",
    "        lista_carac = anuncio.find_all('li')\n",
    "        carac_limpo = [carac.text.strip() for carac in lista_carac]\n",
    "\n",
    "        card['Área (m2)'] = carac_limpo[0].replace(\" m²\", \"\")\n",
    "        card['Quartos'] = carac_limpo[1]\n",
    "        card['Banheiros'] = carac_limpo[2]\n",
    "        card['Garagem'] = carac_limpo[3] if len(carac_limpo) > 3 else 0\n",
    "\n",
    "        cards.append(card)\n",
    "\n",
    "    driver.quit()\n"
   ]
  },
  {
   "cell_type": "code",
   "execution_count": 2,
   "metadata": {},
   "outputs": [
    {
     "ename": "NameError",
     "evalue": "name 'cards' is not defined",
     "output_type": "error",
     "traceback": [
      "\u001b[1;31m---------------------------------------------------------------------------\u001b[0m",
      "\u001b[1;31mNameError\u001b[0m                                 Traceback (most recent call last)",
      "Cell \u001b[1;32mIn[2], line 4\u001b[0m\n\u001b[0;32m      1\u001b[0m \u001b[38;5;66;03m#pip install pandas\u001b[39;00m\n\u001b[0;32m      2\u001b[0m \u001b[38;5;28;01mimport\u001b[39;00m\u001b[38;5;250m \u001b[39m\u001b[38;5;21;01mpandas\u001b[39;00m\u001b[38;5;250m \u001b[39m\u001b[38;5;28;01mas\u001b[39;00m\u001b[38;5;250m \u001b[39m\u001b[38;5;21;01mpd\u001b[39;00m\n\u001b[1;32m----> 4\u001b[0m df \u001b[38;5;241m=\u001b[39m pd\u001b[38;5;241m.\u001b[39mDataFrame(\u001b[43mcards\u001b[49m)\n\u001b[0;32m      5\u001b[0m df\n",
      "\u001b[1;31mNameError\u001b[0m: name 'cards' is not defined"
     ]
    }
   ],
   "source": [
    "#pip install pandas\n",
    "import pandas as pd\n",
    "\n",
    "df = pd.DataFrame(cards)\n",
    "df"
   ]
  },
  {
   "cell_type": "code",
   "execution_count": 287,
   "metadata": {},
   "outputs": [
    {
     "name": "stdout",
     "output_type": "stream",
     "text": [
      "<class 'pandas.core.frame.DataFrame'>\n",
      "RangeIndex: 4337 entries, 0 to 4336\n",
      "Data columns (total 6 columns):\n",
      " #   Column     Non-Null Count  Dtype \n",
      "---  ------     --------------  ----- \n",
      " 0   Endereço   4337 non-null   object\n",
      " 1   Preço      4337 non-null   object\n",
      " 2   Área (m2)  4337 non-null   object\n",
      " 3   Quartos    4337 non-null   object\n",
      " 4   Banheiros  4337 non-null   object\n",
      " 5   Garagem    4337 non-null   object\n",
      "dtypes: object(6)\n",
      "memory usage: 203.4+ KB\n"
     ]
    },
    {
     "data": {
      "text/plain": [
       "None"
      ]
     },
     "metadata": {},
     "output_type": "display_data"
    }
   ],
   "source": [
    "display(df.info())"
   ]
  },
  {
   "cell_type": "code",
   "execution_count": 288,
   "metadata": {},
   "outputs": [
    {
     "data": {
      "text/plain": [
       "Endereço  Preço         Área (m2)  Quartos  Banheiros  Garagem\n",
       "Rua 138   R$ 1.750.000  214        4        5          3          23\n",
       "Rua 1124  R$ 1.500.000  125        3        4          2          16\n",
       "Rua 143   R$ 930.000    115        3        7          2          15\n",
       "Rua 147   R$ 1.370.000  115        3        7          2          15\n",
       "Rua 1138  R$ 1.500.000  121        3        4          2          14\n",
       "                                                                  ..\n",
       "Rua T 53  R$ 7.068.256  393        4        6          4           1\n",
       "          R$ 7.490.000  420        5        7          6           1\n",
       "          R$ 710.000    60         2        3          2           1\n",
       "          R$ 1.050.000  106        3        2          2           1\n",
       "                        104        3        4          2           1\n",
       "Name: count, Length: 2540, dtype: int64"
      ]
     },
     "execution_count": 288,
     "metadata": {},
     "output_type": "execute_result"
    }
   ],
   "source": [
    "df.value_counts()"
   ]
  },
  {
   "cell_type": "code",
   "execution_count": 289,
   "metadata": {},
   "outputs": [
    {
     "data": {
      "text/html": [
       "<div>\n",
       "<style scoped>\n",
       "    .dataframe tbody tr th:only-of-type {\n",
       "        vertical-align: middle;\n",
       "    }\n",
       "\n",
       "    .dataframe tbody tr th {\n",
       "        vertical-align: top;\n",
       "    }\n",
       "\n",
       "    .dataframe thead th {\n",
       "        text-align: right;\n",
       "    }\n",
       "</style>\n",
       "<table border=\"1\" class=\"dataframe\">\n",
       "  <thead>\n",
       "    <tr style=\"text-align: right;\">\n",
       "      <th></th>\n",
       "      <th>Endereço</th>\n",
       "      <th>Preço</th>\n",
       "      <th>Área (m2)</th>\n",
       "      <th>Quartos</th>\n",
       "      <th>Banheiros</th>\n",
       "      <th>Garagem</th>\n",
       "    </tr>\n",
       "  </thead>\n",
       "  <tbody>\n",
       "    <tr>\n",
       "      <th>0</th>\n",
       "      <td>Rua Amélia Artiaga Jardim</td>\n",
       "      <td>R$ 1.250.000</td>\n",
       "      <td>116</td>\n",
       "      <td>3</td>\n",
       "      <td>4</td>\n",
       "      <td>2</td>\n",
       "    </tr>\n",
       "    <tr>\n",
       "      <th>1</th>\n",
       "      <td>Rua 1141</td>\n",
       "      <td>R$ 4.190.000</td>\n",
       "      <td>354</td>\n",
       "      <td>4</td>\n",
       "      <td>5</td>\n",
       "      <td>3</td>\n",
       "    </tr>\n",
       "    <tr>\n",
       "      <th>2</th>\n",
       "      <td>Rua 1128</td>\n",
       "      <td>R$ 1.650.000</td>\n",
       "      <td>166</td>\n",
       "      <td>3</td>\n",
       "      <td>4</td>\n",
       "      <td>3</td>\n",
       "    </tr>\n",
       "    <tr>\n",
       "      <th>3</th>\n",
       "      <td></td>\n",
       "      <td>R$ 1.395.000</td>\n",
       "      <td>138</td>\n",
       "      <td>3</td>\n",
       "      <td>4</td>\n",
       "      <td>2</td>\n",
       "    </tr>\n",
       "    <tr>\n",
       "      <th>4</th>\n",
       "      <td>Rua 145</td>\n",
       "      <td>R$ 1.060.000</td>\n",
       "      <td>130</td>\n",
       "      <td>3</td>\n",
       "      <td>5</td>\n",
       "      <td>3</td>\n",
       "    </tr>\n",
       "    <tr>\n",
       "      <th>...</th>\n",
       "      <td>...</td>\n",
       "      <td>...</td>\n",
       "      <td>...</td>\n",
       "      <td>...</td>\n",
       "      <td>...</td>\n",
       "      <td>...</td>\n",
       "    </tr>\n",
       "    <tr>\n",
       "      <th>4332</th>\n",
       "      <td></td>\n",
       "      <td>R$ 1.260.000</td>\n",
       "      <td>137</td>\n",
       "      <td>3</td>\n",
       "      <td>1</td>\n",
       "      <td>2</td>\n",
       "    </tr>\n",
       "    <tr>\n",
       "      <th>4333</th>\n",
       "      <td></td>\n",
       "      <td>R$ 1.420.000</td>\n",
       "      <td>130</td>\n",
       "      <td>3</td>\n",
       "      <td>3</td>\n",
       "      <td>2</td>\n",
       "    </tr>\n",
       "    <tr>\n",
       "      <th>4334</th>\n",
       "      <td></td>\n",
       "      <td>R$ 4.689.000</td>\n",
       "      <td>317</td>\n",
       "      <td>4</td>\n",
       "      <td>6</td>\n",
       "      <td>4</td>\n",
       "    </tr>\n",
       "    <tr>\n",
       "      <th>4335</th>\n",
       "      <td></td>\n",
       "      <td>R$ 880.000</td>\n",
       "      <td>99</td>\n",
       "      <td>3</td>\n",
       "      <td>1</td>\n",
       "      <td>2</td>\n",
       "    </tr>\n",
       "    <tr>\n",
       "      <th>4336</th>\n",
       "      <td></td>\n",
       "      <td>R$ 815.000</td>\n",
       "      <td>81</td>\n",
       "      <td>2</td>\n",
       "      <td>1</td>\n",
       "      <td>1</td>\n",
       "    </tr>\n",
       "  </tbody>\n",
       "</table>\n",
       "<p>2540 rows × 6 columns</p>\n",
       "</div>"
      ],
      "text/plain": [
       "                       Endereço         Preço Área (m2) Quartos Banheiros  \\\n",
       "0     Rua Amélia Artiaga Jardim  R$ 1.250.000       116       3         4   \n",
       "1                      Rua 1141  R$ 4.190.000       354       4         5   \n",
       "2                      Rua 1128  R$ 1.650.000       166       3         4   \n",
       "3                                R$ 1.395.000       138       3         4   \n",
       "4                       Rua 145  R$ 1.060.000       130       3         5   \n",
       "...                         ...           ...       ...     ...       ...   \n",
       "4332                             R$ 1.260.000       137       3         1   \n",
       "4333                             R$ 1.420.000       130       3         3   \n",
       "4334                             R$ 4.689.000       317       4         6   \n",
       "4335                               R$ 880.000        99       3         1   \n",
       "4336                               R$ 815.000        81       2         1   \n",
       "\n",
       "     Garagem  \n",
       "0          2  \n",
       "1          3  \n",
       "2          3  \n",
       "3          2  \n",
       "4          3  \n",
       "...      ...  \n",
       "4332       2  \n",
       "4333       2  \n",
       "4334       4  \n",
       "4335       2  \n",
       "4336       1  \n",
       "\n",
       "[2540 rows x 6 columns]"
      ]
     },
     "execution_count": 289,
     "metadata": {},
     "output_type": "execute_result"
    }
   ],
   "source": [
    "df = df.drop_duplicates()\n",
    "df"
   ]
  },
  {
   "cell_type": "code",
   "execution_count": 1,
   "metadata": {},
   "outputs": [
    {
     "ename": "NameError",
     "evalue": "name 'df' is not defined",
     "output_type": "error",
     "traceback": [
      "\u001b[1;31m---------------------------------------------------------------------------\u001b[0m",
      "\u001b[1;31mNameError\u001b[0m                                 Traceback (most recent call last)",
      "Cell \u001b[1;32mIn[1], line 1\u001b[0m\n\u001b[1;32m----> 1\u001b[0m \u001b[43mdf\u001b[49m\u001b[38;5;241m.\u001b[39mto_csv(\u001b[38;5;124m\"\u001b[39m\u001b[38;5;124mApartamentosMarista.csv\u001b[39m\u001b[38;5;124m\"\u001b[39m, index\u001b[38;5;241m=\u001b[39m\u001b[38;5;28;01mFalse\u001b[39;00m, sep\u001b[38;5;241m=\u001b[39m\u001b[38;5;124m\"\u001b[39m\u001b[38;5;124m;\u001b[39m\u001b[38;5;124m\"\u001b[39m, encoding\u001b[38;5;241m=\u001b[39m\u001b[38;5;124m\"\u001b[39m\u001b[38;5;124mutf-8-sig\u001b[39m\u001b[38;5;124m\"\u001b[39m)\n",
      "\u001b[1;31mNameError\u001b[0m: name 'df' is not defined"
     ]
    }
   ],
   "source": [
    "#df = df[df['Endereço'].str.strip() != \"\"]\n",
    "df.to_csv(\"ApartamentosMarista.csv\", index=False, sep=\";\", encoding=\"latin1\")"
   ]
  },
  {
   "cell_type": "code",
   "execution_count": null,
   "metadata": {},
   "outputs": [],
   "source": []
  }
 ],
 "metadata": {
  "kernelspec": {
   "display_name": "Python 3",
   "language": "python",
   "name": "python3"
  },
  "language_info": {
   "codemirror_mode": {
    "name": "ipython",
    "version": 3
   },
   "file_extension": ".py",
   "mimetype": "text/x-python",
   "name": "python",
   "nbconvert_exporter": "python",
   "pygments_lexer": "ipython3",
   "version": "3.11.2"
  }
 },
 "nbformat": 4,
 "nbformat_minor": 2
}
